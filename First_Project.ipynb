{
 "cells": [
  {
   "cell_type": "code",
   "execution_count": 2,
   "metadata": {},
   "outputs": [],
   "source": [
    "import pandas as pd\n",
    "import seaborn as sns\n",
    "import matplotlib.pyplot as plt\n",
    "import numpy as np\n",
    "from datetime import datetime\n",
    "from datetime import timedelta\n",
    "from datetime import date"
   ]
  },
  {
   "cell_type": "code",
   "execution_count": 3,
   "metadata": {},
   "outputs": [],
   "source": [
    "df_customers = pd.read_csv('/mnt/HC_Volume_18315164/home-jupyter/jupyter-da-gerasimov/first_project/olist_customers_dataset.csv')\n",
    "df_orders = pd.read_csv('/mnt/HC_Volume_18315164/home-jupyter/jupyter-da-gerasimov/first_project/olist_orders_dataset.csv')\n",
    "df_items = pd.read_csv('/mnt/HC_Volume_18315164/home-jupyter/jupyter-da-gerasimov/first_project/olist_order_items_dataset.csv')"
   ]
  },
  {
   "cell_type": "markdown",
   "metadata": {},
   "source": [
    "Предобработка данных"
   ]
  },
  {
   "cell_type": "code",
   "execution_count": 279,
   "metadata": {},
   "outputs": [
    {
     "data": {
      "text/plain": [
       "order_id                            0\n",
       "customer_id                         0\n",
       "order_status                        0\n",
       "order_purchase_timestamp            0\n",
       "order_approved_at                 160\n",
       "order_delivered_carrier_date     1783\n",
       "order_delivered_customer_date    2965\n",
       "order_estimated_delivery_date       0\n",
       "dtype: int64"
      ]
     },
     "execution_count": 279,
     "metadata": {},
     "output_type": "execute_result"
    }
   ],
   "source": [
    "df_orders.isnull().sum() ## Смотрим пропущенные значения"
   ]
  },
  {
   "cell_type": "code",
   "execution_count": 280,
   "metadata": {},
   "outputs": [
    {
     "data": {
      "text/plain": [
       "customer_id                 0\n",
       "customer_unique_id          0\n",
       "customer_zip_code_prefix    0\n",
       "customer_city               0\n",
       "customer_state              0\n",
       "dtype: int64"
      ]
     },
     "execution_count": 280,
     "metadata": {},
     "output_type": "execute_result"
    }
   ],
   "source": [
    "df_customers.isnull().sum() ## Смотрим пропущенные значения"
   ]
  },
  {
   "cell_type": "code",
   "execution_count": 281,
   "metadata": {},
   "outputs": [
    {
     "data": {
      "text/plain": [
       "order_id               0\n",
       "order_item_id          0\n",
       "product_id             0\n",
       "seller_id              0\n",
       "shipping_limit_date    0\n",
       "price                  0\n",
       "freight_value          0\n",
       "dtype: int64"
      ]
     },
     "execution_count": 281,
     "metadata": {},
     "output_type": "execute_result"
    }
   ],
   "source": [
    "df_items.isnull().sum() ## Смотрим пропущенные значения"
   ]
  },
  {
   "cell_type": "code",
   "execution_count": 282,
   "metadata": {},
   "outputs": [
    {
     "data": {
      "text/plain": [
       "False    99441\n",
       "dtype: int64"
      ]
     },
     "execution_count": 282,
     "metadata": {},
     "output_type": "execute_result"
    }
   ],
   "source": [
    "df_customers.duplicated().value_counts() ## Смотрим дубли"
   ]
  },
  {
   "cell_type": "code",
   "execution_count": 283,
   "metadata": {},
   "outputs": [
    {
     "data": {
      "text/plain": [
       "False    112650\n",
       "dtype: int64"
      ]
     },
     "execution_count": 283,
     "metadata": {},
     "output_type": "execute_result"
    }
   ],
   "source": [
    "df_items.duplicated().value_counts() ## Смотрим дубли"
   ]
  },
  {
   "cell_type": "code",
   "execution_count": 284,
   "metadata": {},
   "outputs": [
    {
     "data": {
      "text/plain": [
       "False    99441\n",
       "dtype: int64"
      ]
     },
     "execution_count": 284,
     "metadata": {},
     "output_type": "execute_result"
    }
   ],
   "source": [
    "df_orders.duplicated().value_counts() ## Смотрим дубли"
   ]
  },
  {
   "cell_type": "code",
   "execution_count": 285,
   "metadata": {},
   "outputs": [],
   "source": [
    "df_orders['order_purchase_timestamp'] = pd.to_datetime(df_orders['order_purchase_timestamp']) ## Переведем колонку в datetime\n",
    "df_orders['order_approved_at'] = pd.to_datetime(df_orders['order_approved_at']) ## Переведем колонку в datetime"
   ]
  },
  {
   "cell_type": "markdown",
   "metadata": {},
   "source": [
    "Задание 1. Сколько у нас пользователей, которые совершили покупку только один раз?\n",
    "\n",
    "Из всех статусов заказа в моем понимании покупкой считается статус заказа delivered и подтвержденное время оплаты товара.\n",
    "Есть пропущенные значения в order_approved_at в одной строке со статусом заказа delivered, которые я не буду учитывать в покупки\n",
    "Также есть пропущенные значения у order_delivered_carrier_date, order_delivered_customer_date. Я буду считать это ошибкой логирования.\n",
    "Можно было бы просто дропнуть пропущенные значения, но мы оставим их.\n",
    "Статус unavailable в моем понимании значит, что клиент оплатил заказ, но его не оказалось у продавца."
   ]
  },
  {
   "cell_type": "code",
   "execution_count": 286,
   "metadata": {},
   "outputs": [],
   "source": [
    "df_task_1 = df_customers.merge(df_orders) ## Джоиним данные"
   ]
  },
  {
   "cell_type": "code",
   "execution_count": 287,
   "metadata": {},
   "outputs": [
    {
     "data": {
      "text/plain": [
       "90545"
      ]
     },
     "execution_count": 287,
     "metadata": {},
     "output_type": "execute_result"
    }
   ],
   "source": [
    "## Фильтруем данные по покупкам, группирруем по уникальному айди покупателя, считаем заказы, и фильтруем единичные заказы.\n",
    "len(df_task_1.query('order_status == \"delivered\" & order_approved_at.notnull()')\\\n",
    "    .groupby('customer_unique_id') \\\n",
    "    .agg({'order_id':'count'}) \\\n",
    "    .query ('order_id == 1'))"
   ]
  },
  {
   "cell_type": "markdown",
   "metadata": {},
   "source": [
    "Задание 2. Сколько заказов в месяц в среднем не доставляется по разным причинам (вывести детализацию по причинам)?\n",
    "\n",
    "Будем считать, что недоставленные заказы, это заказы со статусами : cancelled,unavailable. Можно было бы\n",
    "считать, что те заказы, у которых нет даты доставки - это все недоставленные товары, но как по мне это нелогично.\n",
    "Кроме того, надо перевести колонку order_purchase_timestamp в datetime, потому что по ней мы будем считать временные промежутки"
   ]
  },
  {
   "cell_type": "code",
   "execution_count": 288,
   "metadata": {},
   "outputs": [],
   "source": [
    "## Создаем отдельный дф со всеми заказами у которых статус заказа не delivered\n",
    "df_task_2 = df_orders.query('order_status == \"canceled\" | order_status == \"unavailable\"')"
   ]
  },
  {
   "cell_type": "code",
   "execution_count": 289,
   "metadata": {},
   "outputs": [
    {
     "name": "stderr",
     "output_type": "stream",
     "text": [
      "/opt/tljh/user/lib/python3.7/site-packages/ipykernel_launcher.py:1: SettingWithCopyWarning: \n",
      "A value is trying to be set on a copy of a slice from a DataFrame.\n",
      "Try using .loc[row_indexer,col_indexer] = value instead\n",
      "\n",
      "See the caveats in the documentation: https://pandas.pydata.org/pandas-docs/stable/user_guide/indexing.html#returning-a-view-versus-a-copy\n",
      "  \"\"\"Entry point for launching an IPython kernel.\n"
     ]
    }
   ],
   "source": [
    "df_task_2['m_and_y_num'] = df_task_2['order_purchase_timestamp'].dt.strftime('%Y-%m') ## Создаем колонку с месяцем и годом"
   ]
  },
  {
   "cell_type": "code",
   "execution_count": 290,
   "metadata": {},
   "outputs": [
    {
     "data": {
      "text/plain": [
       "51.416666666666664"
      ]
     },
     "execution_count": 290,
     "metadata": {},
     "output_type": "execute_result"
    }
   ],
   "source": [
    "## Среднее количество недоставленных заказов в месяц\n",
    "df_task_2.groupby(['m_and_y_num']) \\\n",
    "    .agg({'order_id':'count'})['order_id'].mean() "
   ]
  },
  {
   "cell_type": "code",
   "execution_count": 291,
   "metadata": {},
   "outputs": [
    {
     "data": {
      "text/html": [
       "<div>\n",
       "<style scoped>\n",
       "    .dataframe tbody tr th:only-of-type {\n",
       "        vertical-align: middle;\n",
       "    }\n",
       "\n",
       "    .dataframe tbody tr th {\n",
       "        vertical-align: top;\n",
       "    }\n",
       "\n",
       "    .dataframe thead th {\n",
       "        text-align: right;\n",
       "    }\n",
       "</style>\n",
       "<table border=\"1\" class=\"dataframe\">\n",
       "  <thead>\n",
       "    <tr style=\"text-align: right;\">\n",
       "      <th>order_status</th>\n",
       "      <th>canceled</th>\n",
       "      <th>unavailable</th>\n",
       "    </tr>\n",
       "    <tr>\n",
       "      <th>m_and_y_num</th>\n",
       "      <th></th>\n",
       "      <th></th>\n",
       "    </tr>\n",
       "  </thead>\n",
       "  <tbody>\n",
       "    <tr>\n",
       "      <th>2016-09</th>\n",
       "      <td>2</td>\n",
       "      <td>0</td>\n",
       "    </tr>\n",
       "    <tr>\n",
       "      <th>2016-10</th>\n",
       "      <td>24</td>\n",
       "      <td>7</td>\n",
       "    </tr>\n",
       "    <tr>\n",
       "      <th>2017-01</th>\n",
       "      <td>3</td>\n",
       "      <td>10</td>\n",
       "    </tr>\n",
       "    <tr>\n",
       "      <th>2017-02</th>\n",
       "      <td>17</td>\n",
       "      <td>45</td>\n",
       "    </tr>\n",
       "    <tr>\n",
       "      <th>2017-03</th>\n",
       "      <td>33</td>\n",
       "      <td>32</td>\n",
       "    </tr>\n",
       "    <tr>\n",
       "      <th>2017-04</th>\n",
       "      <td>18</td>\n",
       "      <td>9</td>\n",
       "    </tr>\n",
       "    <tr>\n",
       "      <th>2017-05</th>\n",
       "      <td>29</td>\n",
       "      <td>31</td>\n",
       "    </tr>\n",
       "    <tr>\n",
       "      <th>2017-06</th>\n",
       "      <td>16</td>\n",
       "      <td>24</td>\n",
       "    </tr>\n",
       "    <tr>\n",
       "      <th>2017-07</th>\n",
       "      <td>28</td>\n",
       "      <td>52</td>\n",
       "    </tr>\n",
       "    <tr>\n",
       "      <th>2017-08</th>\n",
       "      <td>27</td>\n",
       "      <td>32</td>\n",
       "    </tr>\n",
       "    <tr>\n",
       "      <th>2017-09</th>\n",
       "      <td>20</td>\n",
       "      <td>38</td>\n",
       "    </tr>\n",
       "    <tr>\n",
       "      <th>2017-10</th>\n",
       "      <td>26</td>\n",
       "      <td>58</td>\n",
       "    </tr>\n",
       "    <tr>\n",
       "      <th>2017-11</th>\n",
       "      <td>37</td>\n",
       "      <td>84</td>\n",
       "    </tr>\n",
       "    <tr>\n",
       "      <th>2017-12</th>\n",
       "      <td>11</td>\n",
       "      <td>42</td>\n",
       "    </tr>\n",
       "    <tr>\n",
       "      <th>2018-01</th>\n",
       "      <td>34</td>\n",
       "      <td>48</td>\n",
       "    </tr>\n",
       "    <tr>\n",
       "      <th>2018-02</th>\n",
       "      <td>73</td>\n",
       "      <td>30</td>\n",
       "    </tr>\n",
       "    <tr>\n",
       "      <th>2018-03</th>\n",
       "      <td>26</td>\n",
       "      <td>17</td>\n",
       "    </tr>\n",
       "    <tr>\n",
       "      <th>2018-04</th>\n",
       "      <td>15</td>\n",
       "      <td>5</td>\n",
       "    </tr>\n",
       "    <tr>\n",
       "      <th>2018-05</th>\n",
       "      <td>24</td>\n",
       "      <td>16</td>\n",
       "    </tr>\n",
       "    <tr>\n",
       "      <th>2018-06</th>\n",
       "      <td>18</td>\n",
       "      <td>4</td>\n",
       "    </tr>\n",
       "    <tr>\n",
       "      <th>2018-07</th>\n",
       "      <td>41</td>\n",
       "      <td>18</td>\n",
       "    </tr>\n",
       "    <tr>\n",
       "      <th>2018-08</th>\n",
       "      <td>84</td>\n",
       "      <td>7</td>\n",
       "    </tr>\n",
       "    <tr>\n",
       "      <th>2018-09</th>\n",
       "      <td>15</td>\n",
       "      <td>0</td>\n",
       "    </tr>\n",
       "    <tr>\n",
       "      <th>2018-10</th>\n",
       "      <td>4</td>\n",
       "      <td>0</td>\n",
       "    </tr>\n",
       "  </tbody>\n",
       "</table>\n",
       "</div>"
      ],
      "text/plain": [
       "order_status  canceled  unavailable\n",
       "m_and_y_num                        \n",
       "2016-09              2            0\n",
       "2016-10             24            7\n",
       "2017-01              3           10\n",
       "2017-02             17           45\n",
       "2017-03             33           32\n",
       "2017-04             18            9\n",
       "2017-05             29           31\n",
       "2017-06             16           24\n",
       "2017-07             28           52\n",
       "2017-08             27           32\n",
       "2017-09             20           38\n",
       "2017-10             26           58\n",
       "2017-11             37           84\n",
       "2017-12             11           42\n",
       "2018-01             34           48\n",
       "2018-02             73           30\n",
       "2018-03             26           17\n",
       "2018-04             15            5\n",
       "2018-05             24           16\n",
       "2018-06             18            4\n",
       "2018-07             41           18\n",
       "2018-08             84            7\n",
       "2018-09             15            0\n",
       "2018-10              4            0"
      ]
     },
     "execution_count": 291,
     "metadata": {},
     "output_type": "execute_result"
    }
   ],
   "source": [
    "## Строим таблицу с детализацей по годам,месяцам и причинам недоставленного заказа\n",
    "df_task_2_table = df_task_2.groupby(['m_and_y_num','order_status'], as_index = False) \\\n",
    "    .agg({'order_id':'count'}) \\\n",
    "    .sort_values('m_and_y_num', ascending = True) \\\n",
    "    .pivot_table(values = 'order_id', columns = 'order_status', index = 'm_and_y_num',fill_value=0) \n",
    "df_task_2_table"
   ]
  },
  {
   "cell_type": "code",
   "execution_count": 292,
   "metadata": {},
   "outputs": [],
   "source": [
    "## Первый и последний месяц имеют неполные данные, поэтому такой результат"
   ]
  },
  {
   "cell_type": "markdown",
   "metadata": {},
   "source": [
    "Задание 3. По каждому товару определить, в какой день недели товар чаще всего покупается."
   ]
  },
  {
   "cell_type": "code",
   "execution_count": 293,
   "metadata": {},
   "outputs": [],
   "source": [
    "df_task_3 = df_orders.merge(df_items, on = 'order_id') ## Джоиним заказы и детализацию по заказам"
   ]
  },
  {
   "cell_type": "code",
   "execution_count": 294,
   "metadata": {},
   "outputs": [],
   "source": [
    "## Создаем колонку с днем недели, используем  дату создания заказа, т.к. это самая оптимальная колонка \n",
    "## для определения дня покупки, т.к подтверждение оплаты может прийти не сразу\n",
    "df_task_3['day'] = df_task_3['order_purchase_timestamp'].dt.strftime('%a')"
   ]
  },
  {
   "cell_type": "code",
   "execution_count": 295,
   "metadata": {},
   "outputs": [
    {
     "data": {
      "text/html": [
       "<div>\n",
       "<style scoped>\n",
       "    .dataframe tbody tr th:only-of-type {\n",
       "        vertical-align: middle;\n",
       "    }\n",
       "\n",
       "    .dataframe tbody tr th {\n",
       "        vertical-align: top;\n",
       "    }\n",
       "\n",
       "    .dataframe thead th {\n",
       "        text-align: right;\n",
       "    }\n",
       "</style>\n",
       "<table border=\"1\" class=\"dataframe\">\n",
       "  <thead>\n",
       "    <tr style=\"text-align: right;\">\n",
       "      <th></th>\n",
       "      <th>product_id</th>\n",
       "      <th>weekday</th>\n",
       "    </tr>\n",
       "  </thead>\n",
       "  <tbody>\n",
       "    <tr>\n",
       "      <th>0</th>\n",
       "      <td>00066f42aeeb9f3007548bb9d3f33c38</td>\n",
       "      <td>Sun</td>\n",
       "    </tr>\n",
       "    <tr>\n",
       "      <th>1</th>\n",
       "      <td>00088930e925c41fd95ebfe695fd2655</td>\n",
       "      <td>Tue</td>\n",
       "    </tr>\n",
       "    <tr>\n",
       "      <th>2</th>\n",
       "      <td>0009406fd7479715e4bef61dd91f2462</td>\n",
       "      <td>Thu</td>\n",
       "    </tr>\n",
       "    <tr>\n",
       "      <th>3</th>\n",
       "      <td>000b8f95fcb9e0096488278317764d19</td>\n",
       "      <td>Fri</td>\n",
       "    </tr>\n",
       "    <tr>\n",
       "      <th>4</th>\n",
       "      <td>000d9be29b5207b54e86aa1b1ac54872</td>\n",
       "      <td>Tue</td>\n",
       "    </tr>\n",
       "  </tbody>\n",
       "</table>\n",
       "</div>"
      ],
      "text/plain": [
       "                         product_id weekday\n",
       "0  00066f42aeeb9f3007548bb9d3f33c38     Sun\n",
       "1  00088930e925c41fd95ebfe695fd2655     Tue\n",
       "2  0009406fd7479715e4bef61dd91f2462     Thu\n",
       "3  000b8f95fcb9e0096488278317764d19     Fri\n",
       "4  000d9be29b5207b54e86aa1b1ac54872     Tue"
      ]
     },
     "execution_count": 295,
     "metadata": {},
     "output_type": "execute_result"
    }
   ],
   "source": [
    "## Как уже выше определили используем фильтрацию для определения покупок, считаем для каждого товара количество покупок \n",
    "## в тот или иной день недели, ставим индекс day, чтобы idxmax работал правильно и получаем для каждого товара день недели,\n",
    "## в который больше всего было куплено этого товара\n",
    "df_task_3.query('order_status == \"delivered\" & order_approved_at.notnull()')\\\n",
    "    .groupby(['day','product_id']) \\\n",
    "    .agg({'order_id':'count'}) \\\n",
    "    .reset_index() \\\n",
    "    .set_index('day') \\\n",
    "    .rename(columns = {'order_id':'weekday'}) \\\n",
    "    .groupby('product_id', as_index = False) \\\n",
    "    .idxmax() \\\n",
    "    .head(5)"
   ]
  },
  {
   "cell_type": "markdown",
   "metadata": {},
   "source": [
    "Задание 4. Сколько у каждого из пользователей в среднем покупок в неделю (по месяцам)? Не стоит забывать, что внутри месяца может быть не целое количество недель. Например, в ноябре 2021 года 4,28 недели. И внутри метрики это нужно учесть."
   ]
  },
  {
   "cell_type": "code",
   "execution_count": 296,
   "metadata": {},
   "outputs": [],
   "source": [
    "df_task_4 = df_customers.merge(df_orders) ## Джоиним данные"
   ]
  },
  {
   "cell_type": "code",
   "execution_count": 297,
   "metadata": {},
   "outputs": [],
   "source": [
    "df_task_4['period_m'] = df_task_4['order_approved_at'].dt.to_period('M')"
   ]
  },
  {
   "cell_type": "code",
   "execution_count": 298,
   "metadata": {},
   "outputs": [],
   "source": [
    "## Фильтруем по покупкам\n",
    "df_task_4 = df_task_4.query('order_status == \"delivered\" & order_approved_at.notnull()')"
   ]
  },
  {
   "cell_type": "code",
   "execution_count": 299,
   "metadata": {},
   "outputs": [],
   "source": [
    "## Считаем покупки каждый месяц\n",
    "df_task_4 = df_task_4.groupby(['customer_unique_id','period_m']) \\\n",
    "    .agg({'order_approved_at':'count'}) \\\n",
    "    .rename(columns = {'order_approved_at':'purchpermonth'}) \\\n",
    "    .reset_index()"
   ]
  },
  {
   "cell_type": "code",
   "execution_count": 300,
   "metadata": {},
   "outputs": [],
   "source": [
    "## Функция для определения сколько дней в месяце\n",
    "def numofdays (x):\n",
    "        if x == 2:\n",
    "            x = 28\n",
    "        elif x == 4 or x==6 or x == 9 or x==11:\n",
    "            x = 30\n",
    "        else:\n",
    "            x = 31\n",
    "        return x "
   ]
  },
  {
   "cell_type": "code",
   "execution_count": 301,
   "metadata": {},
   "outputs": [],
   "source": [
    "## Применяем функцию\n",
    "df_task_4['numofweeks'] = df_task_4['period_m'].apply(numofdays)/7"
   ]
  },
  {
   "cell_type": "code",
   "execution_count": 302,
   "metadata": {},
   "outputs": [
    {
     "data": {
      "text/html": [
       "<div>\n",
       "<style scoped>\n",
       "    .dataframe tbody tr th:only-of-type {\n",
       "        vertical-align: middle;\n",
       "    }\n",
       "\n",
       "    .dataframe tbody tr th {\n",
       "        vertical-align: top;\n",
       "    }\n",
       "\n",
       "    .dataframe thead th {\n",
       "        text-align: right;\n",
       "    }\n",
       "</style>\n",
       "<table border=\"1\" class=\"dataframe\">\n",
       "  <thead>\n",
       "    <tr style=\"text-align: right;\">\n",
       "      <th></th>\n",
       "      <th>customer_unique_id</th>\n",
       "      <th>period_m</th>\n",
       "      <th>purchpermonth</th>\n",
       "      <th>numofweeks</th>\n",
       "      <th>purchperweek</th>\n",
       "    </tr>\n",
       "  </thead>\n",
       "  <tbody>\n",
       "    <tr>\n",
       "      <th>0</th>\n",
       "      <td>0000366f3b9a7992bf8c76cfdf3221e2</td>\n",
       "      <td>2018-05</td>\n",
       "      <td>1</td>\n",
       "      <td>4.428571</td>\n",
       "      <td>0.225806</td>\n",
       "    </tr>\n",
       "    <tr>\n",
       "      <th>1</th>\n",
       "      <td>0000b849f77a49e4a4ce2b2a4ca5be3f</td>\n",
       "      <td>2018-05</td>\n",
       "      <td>1</td>\n",
       "      <td>4.428571</td>\n",
       "      <td>0.225806</td>\n",
       "    </tr>\n",
       "    <tr>\n",
       "      <th>2</th>\n",
       "      <td>0000f46a3911fa3c0805444483337064</td>\n",
       "      <td>2017-03</td>\n",
       "      <td>1</td>\n",
       "      <td>4.428571</td>\n",
       "      <td>0.225806</td>\n",
       "    </tr>\n",
       "    <tr>\n",
       "      <th>3</th>\n",
       "      <td>0000f6ccb0745a6a4b88665a16c9f078</td>\n",
       "      <td>2017-10</td>\n",
       "      <td>1</td>\n",
       "      <td>4.428571</td>\n",
       "      <td>0.225806</td>\n",
       "    </tr>\n",
       "    <tr>\n",
       "      <th>4</th>\n",
       "      <td>0004aac84e0df4da2b147fca70cf8255</td>\n",
       "      <td>2017-11</td>\n",
       "      <td>1</td>\n",
       "      <td>4.428571</td>\n",
       "      <td>0.225806</td>\n",
       "    </tr>\n",
       "  </tbody>\n",
       "</table>\n",
       "</div>"
      ],
      "text/plain": [
       "                 customer_unique_id period_m  purchpermonth  numofweeks  \\\n",
       "0  0000366f3b9a7992bf8c76cfdf3221e2  2018-05              1    4.428571   \n",
       "1  0000b849f77a49e4a4ce2b2a4ca5be3f  2018-05              1    4.428571   \n",
       "2  0000f46a3911fa3c0805444483337064  2017-03              1    4.428571   \n",
       "3  0000f6ccb0745a6a4b88665a16c9f078  2017-10              1    4.428571   \n",
       "4  0004aac84e0df4da2b147fca70cf8255  2017-11              1    4.428571   \n",
       "\n",
       "   purchperweek  \n",
       "0      0.225806  \n",
       "1      0.225806  \n",
       "2      0.225806  \n",
       "3      0.225806  \n",
       "4      0.225806  "
      ]
     },
     "execution_count": 302,
     "metadata": {},
     "output_type": "execute_result"
    }
   ],
   "source": [
    "## Делаем колонку со средним значением покупок в неделю\n",
    "df_task_4['purchperweek'] = df_task_4['purchpermonth']/df_task_4['numofweeks']\n",
    "df_task_4.head(5)"
   ]
  },
  {
   "cell_type": "markdown",
   "metadata": {},
   "source": [
    "Задание 5. Используя pandas, проведи когортный анализ пользователей. В период с января по декабрь выяви когорту с самым высоким retention на 3й месяц. "
   ]
  },
  {
   "cell_type": "code",
   "execution_count": 303,
   "metadata": {},
   "outputs": [],
   "source": [
    "## Создаем новый дф для удобства\n",
    "df_merged_task_5 = df_orders.merge(df_customers) "
   ]
  },
  {
   "cell_type": "code",
   "execution_count": 304,
   "metadata": {},
   "outputs": [],
   "source": [
    "## Фильтруем покупки\n",
    "df_merged_task_5 = df_merged_task_5.query('order_status == \"delivered\" & order_approved_at.notnull()') \\"
   ]
  },
  {
   "cell_type": "code",
   "execution_count": 305,
   "metadata": {},
   "outputs": [],
   "source": [
    "## Переводим колонку в значение год-месяц\n",
    "df_merged_task_5['order_approved_at'] = df_merged_task_5['order_approved_at'].dt.strftime('%Y-%m')"
   ]
  },
  {
   "cell_type": "code",
   "execution_count": 306,
   "metadata": {},
   "outputs": [],
   "source": [
    "## Определяем первый месяц покупки у каждого пользователя\n",
    "users_min_month = df_merged_task_5.groupby('customer_unique_id',as_index = False) \\\n",
    "    .agg({'order_approved_at': 'min'})\\\n",
    "    .rename(columns = {'order_approved_at':'first_month'})"
   ]
  },
  {
   "cell_type": "code",
   "execution_count": 307,
   "metadata": {},
   "outputs": [],
   "source": [
    "## Соединяем дфы\n",
    "df_merged_task_5 = df_merged_task_5.merge(users_min_month)    "
   ]
  },
  {
   "cell_type": "code",
   "execution_count": 308,
   "metadata": {},
   "outputs": [],
   "source": [
    "## Сортируем для удобства\n",
    "df_merged_task_5 = df_merged_task_5.sort_values('order_approved_at')"
   ]
  },
  {
   "cell_type": "code",
   "execution_count": 309,
   "metadata": {},
   "outputs": [],
   "source": [
    "## Считаем сколько пользователей совершили покупку в тот или иной месяц\n",
    "df_merged_task_5 = df_merged_task_5.groupby(['first_month', 'order_approved_at']) \\\n",
    "    .agg({'customer_unique_id':'nunique'}) \\\n",
    "    .rename(columns = {'customer_unique_id':'cust_count'}) "
   ]
  },
  {
   "cell_type": "code",
   "execution_count": 310,
   "metadata": {},
   "outputs": [],
   "source": [
    "## Функция для опредения когорты\n",
    "def cohort(df):\n",
    "    df['cohort'] = np.arange(len(df)) + 1\n",
    "    return df\n",
    "\n",
    "df_merged_task_5= df_merged_task_5.groupby(level = 0).apply(cohort)"
   ]
  },
  {
   "cell_type": "code",
   "execution_count": 311,
   "metadata": {},
   "outputs": [],
   "source": [
    "## Разворачиваем таблицу\n",
    "df_merged_task_5 = df_merged_task_5.pivot_table(columns='cohort', index = 'first_month',values='cust_count')"
   ]
  },
  {
   "cell_type": "code",
   "execution_count": 312,
   "metadata": {},
   "outputs": [],
   "source": [
    "## Создаем переменную для подсчета RR\n",
    "first = df_merged_task_5[1]\n",
    "retention = df_merged_task_5.divide(first, axis=0).round(5)"
   ]
  },
  {
   "cell_type": "code",
   "execution_count": 313,
   "metadata": {},
   "outputs": [
    {
     "data": {
      "text/plain": [
       "'2017-09'"
      ]
     },
     "execution_count": 313,
     "metadata": {},
     "output_type": "execute_result"
    }
   ],
   "source": [
    "## Получаем наисвыший RR на 3 месяц\n",
    "retention[3].idxmax()"
   ]
  },
  {
   "cell_type": "code",
   "execution_count": 314,
   "metadata": {},
   "outputs": [
    {
     "data": {
      "image/png": "[encoded data removed]",
      "text/plain": [
       "<Figure size 1440x1080 with 2 Axes>"
      ]
     },
     "metadata": {},
     "output_type": "display_data"
    }
   ],
   "source": [
    "## Строим график\n",
    "plt.figure(figsize=(20, 15))\n",
    "sns.heatmap(retention, annot=True, fmt='.1%', cmap='Reds', vmin = 0, vmax = 0.02)\n",
    "plt.title('Retention Rate')\n",
    "plt.show()"
   ]
  },
  {
   "cell_type": "markdown",
   "metadata": {},
   "source": [
    " Задание 6. Часто для качественного анализа аудитории использую подходы, основанные на сегментации. Используя python, построй RFM-сегментацию пользователей, чтобы качественно оценить свою аудиторию. В кластеризации можешь выбрать следующие метрики: R - время от последней покупки пользователя до текущей даты, F - суммарное количество покупок у пользователя за всё время, M - сумма покупок за всё время. Подробно опиши, как ты создавал кластеры. Для каждого RFM-сегмента построй границы метрик recency, frequency и monetary для интерпретации этих кластеров. Пример такого описания: RFM-сегмент 132 (recency=1, frequency=3, monetary=2) имеет границы метрик recency от 130 до 500 дней, frequency от 2 до 5 заказов в неделю, monetary от 1780 до 3560 рублей в неделю"
   ]
  },
  {
   "cell_type": "code",
   "execution_count": 315,
   "metadata": {},
   "outputs": [],
   "source": [
    "## Джоиним дфы\n",
    "df_data = df_orders.merge(df_items, on = 'order_id', how = 'inner')\n",
    "df_full = df_data.merge(df_customers)"
   ]
  },
  {
   "cell_type": "code",
   "execution_count": 316,
   "metadata": {},
   "outputs": [],
   "source": [
    "## Фильтруем по покупкам\n",
    "df_full_task_6 = df_full.query('order_status == \"delivered\" & order_approved_at.notnull()')"
   ]
  },
  {
   "cell_type": "code",
   "execution_count": 317,
   "metadata": {},
   "outputs": [],
   "source": [
    "## Группируем уникальный айди клиентов, считаем метрики: Monetary, Frequency\n",
    "df_full_task_6_rfm = df_full_task_6.groupby('customer_unique_id') \\\n",
    "    .agg({'price' : 'sum',\n",
    "          'order_id':'nunique'}) \\\n",
    "    .rename(columns = {'price':'Monetary','order_id':'Frequency'}) \\\n",
    "    .reset_index()"
   ]
  },
  {
   "cell_type": "code",
   "execution_count": 318,
   "metadata": {},
   "outputs": [
    {
     "name": "stderr",
     "output_type": "stream",
     "text": [
      "/opt/tljh/user/lib/python3.7/site-packages/ipykernel_launcher.py:2: SettingWithCopyWarning: \n",
      "A value is trying to be set on a copy of a slice from a DataFrame.\n",
      "Try using .loc[row_indexer,col_indexer] = value instead\n",
      "\n",
      "See the caveats in the documentation: https://pandas.pydata.org/pandas-docs/stable/user_guide/indexing.html#returning-a-view-versus-a-copy\n",
      "  \n"
     ]
    }
   ],
   "source": [
    "## Считаем последний день во всем датафрейме для метрики Recency\n",
    "df_full_task_6['last_day'] = df_full_task_6['order_approved_at'].max()"
   ]
  },
  {
   "cell_type": "code",
   "execution_count": 319,
   "metadata": {},
   "outputs": [],
   "source": [
    "## Считаем метрику Recency в днях\n",
    "df_full_task_6_rfm['Recency'] = (df_full_task_6['last_day'] - df_full_task_6['order_approved_at']).dt.days"
   ]
  },
  {
   "cell_type": "code",
   "execution_count": 320,
   "metadata": {},
   "outputs": [
    {
     "data": {
      "text/plain": [
       "1     90545\n",
       "2      2572\n",
       "3       181\n",
       "4        28\n",
       "5         9\n",
       "6         5\n",
       "7         3\n",
       "15        1\n",
       "9         1\n",
       "Name: Frequency, dtype: int64"
      ]
     },
     "execution_count": 320,
     "metadata": {},
     "output_type": "execute_result"
    }
   ],
   "source": [
    "## Видим ненормальное распределение\n",
    "df_full_task_6_rfm['Frequency'].value_counts()"
   ]
  },
  {
   "cell_type": "code",
   "execution_count": 321,
   "metadata": {},
   "outputs": [
    {
     "data": {
      "text/plain": [
       "{'Recency': {0.2: 95.0, 0.4: 179.0, 0.6: 269.0, 0.8: 382.0},\n",
       " 'Monetary': {0.2: 39.9, 0.4: 69.9, 0.6: 109.9, 0.8: 179.9}}"
      ]
     },
     "execution_count": 321,
     "metadata": {},
     "output_type": "execute_result"
    }
   ],
   "source": [
    "## Для метрик R и M считаем кванитили по которым разобьем на группы клиентов\n",
    "quintiles = df_full_task_6_rfm[['Recency', 'Monetary']].quantile([.2, .4, .6, .8]).to_dict()"
   ]
  },
  {
   "cell_type": "code",
   "execution_count": 322,
   "metadata": {},
   "outputs": [],
   "source": [
    "## Для метрик R и M делаем функции, для R получается: чем меньше дней, тем лучше(5), для M наоборот. Для F делаем другую функцию,\n",
    "## т.к. через квантили не получается разделить эту метрику на группы.\n",
    "def r_score(x):\n",
    "    if x <= quintiles['Recency'][.2]:\n",
    "        return 5\n",
    "    elif x <= quintiles['Recency'][.4]:\n",
    "        return 4\n",
    "    elif x <= quintiles['Recency'][.6]:\n",
    "        return 3\n",
    "    elif x <= quintiles['Recency'][.8]:\n",
    "        return 2\n",
    "    else:\n",
    "        return 1\n",
    "\n",
    "def m_score(x):\n",
    "    if x <= quintiles['Monetary'][.2]:\n",
    "        return 1\n",
    "    elif x <= quintiles['Monetary'][.4]:\n",
    "        return 2\n",
    "    elif x <= quintiles['Monetary'][.6]:\n",
    "        return 3\n",
    "    elif x <= quintiles['Monetary'][.8]:\n",
    "        return 4\n",
    "    else:\n",
    "        return 5\n",
    "    \n",
    "def f_score(x):\n",
    "    if x == 1:\n",
    "        return 1\n",
    "    elif x == 2:\n",
    "        return 2\n",
    "    else:\n",
    "        return 3 "
   ]
  },
  {
   "cell_type": "code",
   "execution_count": 323,
   "metadata": {},
   "outputs": [],
   "source": [
    "## Делаем колонки с оценками по метрикам\n",
    "df_full_task_6_rfm['R'] = df_full_task_6_rfm['Recency'].apply(lambda x: r_score(x))\n",
    "df_full_task_6_rfm['F'] = df_full_task_6_rfm['Frequency'].apply(lambda x: f_score(x))\n",
    "df_full_task_6_rfm['M'] = df_full_task_6_rfm['Monetary'].apply(lambda x: m_score(x))"
   ]
  },
  {
   "cell_type": "code",
   "execution_count": 324,
   "metadata": {},
   "outputs": [],
   "source": [
    "## Делаем колонку Score\n",
    "df_full_task_6_rfm['RFM_Score'] = df_full_task_6_rfm['R'].map(str) + df_full_task_6_rfm['F'].map(str) + df_full_task_6_rfm['M'].map(str)"
   ]
  },
  {
   "cell_type": "code",
   "execution_count": 325,
   "metadata": {},
   "outputs": [
    {
     "data": {
      "text/html": [
       "<div>\n",
       "<style scoped>\n",
       "    .dataframe tbody tr th:only-of-type {\n",
       "        vertical-align: middle;\n",
       "    }\n",
       "\n",
       "    .dataframe tbody tr th {\n",
       "        vertical-align: top;\n",
       "    }\n",
       "\n",
       "    .dataframe thead th {\n",
       "        text-align: right;\n",
       "    }\n",
       "</style>\n",
       "<table border=\"1\" class=\"dataframe\">\n",
       "  <thead>\n",
       "    <tr style=\"text-align: right;\">\n",
       "      <th></th>\n",
       "      <th>customer_unique_id</th>\n",
       "      <th>Monetary</th>\n",
       "      <th>Frequency</th>\n",
       "      <th>Recency</th>\n",
       "      <th>R</th>\n",
       "      <th>F</th>\n",
       "      <th>M</th>\n",
       "      <th>RFM_Score</th>\n",
       "      <th>Segment</th>\n",
       "    </tr>\n",
       "  </thead>\n",
       "  <tbody>\n",
       "    <tr>\n",
       "      <th>0</th>\n",
       "      <td>0000366f3b9a7992bf8c76cfdf3221e2</td>\n",
       "      <td>129.90</td>\n",
       "      <td>1</td>\n",
       "      <td>331.0</td>\n",
       "      <td>2</td>\n",
       "      <td>1</td>\n",
       "      <td>4</td>\n",
       "      <td>214</td>\n",
       "      <td>about to sleep</td>\n",
       "    </tr>\n",
       "    <tr>\n",
       "      <th>1</th>\n",
       "      <td>0000b849f77a49e4a4ce2b2a4ca5be3f</td>\n",
       "      <td>18.90</td>\n",
       "      <td>1</td>\n",
       "      <td>34.0</td>\n",
       "      <td>5</td>\n",
       "      <td>1</td>\n",
       "      <td>1</td>\n",
       "      <td>511</td>\n",
       "      <td>new customers</td>\n",
       "    </tr>\n",
       "    <tr>\n",
       "      <th>2</th>\n",
       "      <td>0000f46a3911fa3c0805444483337064</td>\n",
       "      <td>69.00</td>\n",
       "      <td>1</td>\n",
       "      <td>21.0</td>\n",
       "      <td>5</td>\n",
       "      <td>1</td>\n",
       "      <td>2</td>\n",
       "      <td>512</td>\n",
       "      <td>new customers</td>\n",
       "    </tr>\n",
       "    <tr>\n",
       "      <th>3</th>\n",
       "      <td>0000f6ccb0745a6a4b88665a16c9f078</td>\n",
       "      <td>25.99</td>\n",
       "      <td>1</td>\n",
       "      <td>283.0</td>\n",
       "      <td>2</td>\n",
       "      <td>1</td>\n",
       "      <td>1</td>\n",
       "      <td>211</td>\n",
       "      <td>about to sleep</td>\n",
       "    </tr>\n",
       "    <tr>\n",
       "      <th>4</th>\n",
       "      <td>0004aac84e0df4da2b147fca70cf8255</td>\n",
       "      <td>180.00</td>\n",
       "      <td>1</td>\n",
       "      <td>196.0</td>\n",
       "      <td>3</td>\n",
       "      <td>1</td>\n",
       "      <td>5</td>\n",
       "      <td>315</td>\n",
       "      <td>about to sleep</td>\n",
       "    </tr>\n",
       "  </tbody>\n",
       "</table>\n",
       "</div>"
      ],
      "text/plain": [
       "                 customer_unique_id  Monetary  Frequency  Recency  R  F  M  \\\n",
       "0  0000366f3b9a7992bf8c76cfdf3221e2    129.90          1    331.0  2  1  4   \n",
       "1  0000b849f77a49e4a4ce2b2a4ca5be3f     18.90          1     34.0  5  1  1   \n",
       "2  0000f46a3911fa3c0805444483337064     69.00          1     21.0  5  1  2   \n",
       "3  0000f6ccb0745a6a4b88665a16c9f078     25.99          1    283.0  2  1  1   \n",
       "4  0004aac84e0df4da2b147fca70cf8255    180.00          1    196.0  3  1  5   \n",
       "\n",
       "  RFM_Score         Segment  \n",
       "0       214  about to sleep  \n",
       "1       511   new customers  \n",
       "2       512   new customers  \n",
       "3       211  about to sleep  \n",
       "4       315  about to sleep  "
      ]
     },
     "execution_count": 325,
     "metadata": {},
     "output_type": "execute_result"
    }
   ],
   "source": [
    "## Сегментируем  пользователей по RF, M не будем учитывать.\n",
    "segt_map = {\n",
    "    r'11': 'hibernating',\n",
    "    r'1[2-3]': 'can\\'t loose',\n",
    "    r'[2-3]1': 'about to sleep',\n",
    "    r'[2-3][2-3]': 'need attention',\n",
    "    r'4[2-3]': 'loyal customers',\n",
    "    r'41': 'promising',\n",
    "    r'51': 'new customers',\n",
    "    r'52': 'potential сhampions',\n",
    "    r'53': 'champions'\n",
    "}\n",
    "df_full_task_6_rfm['Segment'] = df_full_task_6_rfm['R'].map(str) + df_full_task_6_rfm['F'].map(str)\n",
    "df_full_task_6_rfm['Segment'] = df_full_task_6_rfm['Segment'].replace(segt_map, regex=True)\n",
    "df_full_task_6_rfm.head(5)"
   ]
  },
  {
   "cell_type": "code",
   "execution_count": null,
   "metadata": {},
   "outputs": [],
   "source": []
  }
 ],
 "metadata": {
  "kernelspec": {
   "display_name": "Python 3",
   "language": "python",
   "name": "python3"
  },
  "language_info": {
   "codemirror_mode": {
    "name": "ipython",
    "version": 3
   },
   "file_extension": ".py",
   "mimetype": "text/x-python",
   "name": "python",
   "nbconvert_exporter": "python",
   "pygments_lexer": "ipython3",
   "version": "3.7.3"
  }
 },
 "nbformat": 4,
 "nbformat_minor": 4
}
